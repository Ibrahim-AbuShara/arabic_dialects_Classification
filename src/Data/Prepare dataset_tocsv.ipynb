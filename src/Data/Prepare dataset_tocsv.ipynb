{
 "cells": [
  {
   "cell_type": "code",
   "execution_count": 1,
   "id": "b29c938b",
   "metadata": {},
   "outputs": [],
   "source": [
    "import sqlite3\n",
    "import pandas as pd"
   ]
  },
  {
   "cell_type": "markdown",
   "id": "f1287145",
   "metadata": {},
   "source": [
    "## Connect to the database"
   ]
  },
  {
   "cell_type": "code",
   "execution_count": 2,
   "id": "5b9e8d89",
   "metadata": {},
   "outputs": [],
   "source": [
    "conn = sqlite3.connect('dialects_database.db')"
   ]
  },
  {
   "cell_type": "markdown",
   "id": "73bb4c0a",
   "metadata": {},
   "source": [
    "## Read data from tables"
   ]
  },
  {
   "cell_type": "code",
   "execution_count": 3,
   "id": "7aa9095f",
   "metadata": {},
   "outputs": [],
   "source": [
    "# Read data from Table1\n",
    "table1_data = pd.read_sql_query(\"SELECT * FROM id_dialect\", conn)\n",
    "\n",
    "# Read data from Table2\n",
    "table2_data = pd.read_sql_query(\"SELECT * FROM id_text\", conn)"
   ]
  },
  {
   "cell_type": "markdown",
   "id": "650456aa",
   "metadata": {},
   "source": [
    "## Merge the tables on the \"id\" column\n"
   ]
  },
  {
   "cell_type": "code",
   "execution_count": 4,
   "id": "08266d97",
   "metadata": {},
   "outputs": [],
   "source": [
    "merged_data = pd.merge(table1_data, table2_data, on='id')\n",
    "\n",
    "# Close the database connection\n",
    "conn.close()\n"
   ]
  },
  {
   "cell_type": "code",
   "execution_count": 5,
   "id": "37ae2059",
   "metadata": {},
   "outputs": [
    {
     "data": {
      "text/html": [
       "<div>\n",
       "<style scoped>\n",
       "    .dataframe tbody tr th:only-of-type {\n",
       "        vertical-align: middle;\n",
       "    }\n",
       "\n",
       "    .dataframe tbody tr th {\n",
       "        vertical-align: top;\n",
       "    }\n",
       "\n",
       "    .dataframe thead th {\n",
       "        text-align: right;\n",
       "    }\n",
       "</style>\n",
       "<table border=\"1\" class=\"dataframe\">\n",
       "  <thead>\n",
       "    <tr style=\"text-align: right;\">\n",
       "      <th></th>\n",
       "      <th>id</th>\n",
       "      <th>dialect</th>\n",
       "      <th>text</th>\n",
       "    </tr>\n",
       "  </thead>\n",
       "  <tbody>\n",
       "    <tr>\n",
       "      <th>0</th>\n",
       "      <td>1009754958479151232</td>\n",
       "      <td>LY</td>\n",
       "      <td>@toha_Altomy @gy_yah قليلين ادب ومنافقين. لو ا...</td>\n",
       "    </tr>\n",
       "    <tr>\n",
       "      <th>1</th>\n",
       "      <td>1009794751548313600</td>\n",
       "      <td>LY</td>\n",
       "      <td>@AlmFaisal 😂😂 الليبيين متقلبين!!!\\nبس بالنسبة ...</td>\n",
       "    </tr>\n",
       "    <tr>\n",
       "      <th>2</th>\n",
       "      <td>1019989115490787200</td>\n",
       "      <td>LY</td>\n",
       "      <td>@smsm071990 @ALMOGRBE كل 20 تانيه شاب ليبي بير...</td>\n",
       "    </tr>\n",
       "    <tr>\n",
       "      <th>3</th>\n",
       "      <td>1035479791758135168</td>\n",
       "      <td>LY</td>\n",
       "      <td>@AboryPro @lyranoo85 رانيا عقليتك متخلفة. اولا...</td>\n",
       "    </tr>\n",
       "    <tr>\n",
       "      <th>4</th>\n",
       "      <td>1035481122921164800</td>\n",
       "      <td>LY</td>\n",
       "      <td>@lyranoo85 شكلك متعقدة علشان الراجل لي تحبيه ا...</td>\n",
       "    </tr>\n",
       "  </tbody>\n",
       "</table>\n",
       "</div>"
      ],
      "text/plain": [
       "                    id dialect  \\\n",
       "0  1009754958479151232      LY   \n",
       "1  1009794751548313600      LY   \n",
       "2  1019989115490787200      LY   \n",
       "3  1035479791758135168      LY   \n",
       "4  1035481122921164800      LY   \n",
       "\n",
       "                                                text  \n",
       "0  @toha_Altomy @gy_yah قليلين ادب ومنافقين. لو ا...  \n",
       "1  @AlmFaisal 😂😂 الليبيين متقلبين!!!\\nبس بالنسبة ...  \n",
       "2  @smsm071990 @ALMOGRBE كل 20 تانيه شاب ليبي بير...  \n",
       "3  @AboryPro @lyranoo85 رانيا عقليتك متخلفة. اولا...  \n",
       "4  @lyranoo85 شكلك متعقدة علشان الراجل لي تحبيه ا...  "
      ]
     },
     "execution_count": 5,
     "metadata": {},
     "output_type": "execute_result"
    }
   ],
   "source": [
    "merged_data.head(5)"
   ]
  },
  {
   "cell_type": "markdown",
   "id": "8ae7b12d",
   "metadata": {},
   "source": [
    "## Save Merged Data"
   ]
  },
  {
   "cell_type": "code",
   "execution_count": 6,
   "id": "ae620e70",
   "metadata": {},
   "outputs": [],
   "source": [
    "merged_data.to_csv(\"dialects_database.csv\")"
   ]
  },
  {
   "cell_type": "code",
   "execution_count": 9,
   "id": "8372e323",
   "metadata": {},
   "outputs": [
    {
     "data": {
      "text/plain": [
       "EG    57636\n",
       "LY    36499\n",
       "LB    27617\n",
       "SD    14434\n",
       "MA    11539\n",
       "Name: dialect, dtype: int64"
      ]
     },
     "execution_count": 9,
     "metadata": {},
     "output_type": "execute_result"
    }
   ],
   "source": [
    "merged_data[\"dialect\"].value_counts()"
   ]
  },
  {
   "cell_type": "code",
   "execution_count": null,
   "id": "73bdd3c8",
   "metadata": {},
   "outputs": [],
   "source": []
  }
 ],
 "metadata": {
  "kernelspec": {
   "display_name": "Python 3 (ipykernel)",
   "language": "python",
   "name": "python3"
  },
  "language_info": {
   "codemirror_mode": {
    "name": "ipython",
    "version": 3
   },
   "file_extension": ".py",
   "mimetype": "text/x-python",
   "name": "python",
   "nbconvert_exporter": "python",
   "pygments_lexer": "ipython3",
   "version": "3.10.6"
  }
 },
 "nbformat": 4,
 "nbformat_minor": 5
}
