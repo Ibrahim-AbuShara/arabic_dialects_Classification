{
 "cells": [
  {
   "cell_type": "code",
   "execution_count": 1,
   "id": "f6fddb98",
   "metadata": {
    "id": "f6fddb98",
    "outputId": "61001dbf-6b45-480f-f9a7-81e0a0380089"
   },
   "outputs": [
    {
     "data": {
      "text/html": [
       "<div>\n",
       "<style scoped>\n",
       "    .dataframe tbody tr th:only-of-type {\n",
       "        vertical-align: middle;\n",
       "    }\n",
       "\n",
       "    .dataframe tbody tr th {\n",
       "        vertical-align: top;\n",
       "    }\n",
       "\n",
       "    .dataframe thead th {\n",
       "        text-align: right;\n",
       "    }\n",
       "</style>\n",
       "<table border=\"1\" class=\"dataframe\">\n",
       "  <thead>\n",
       "    <tr style=\"text-align: right;\">\n",
       "      <th></th>\n",
       "      <th>tweet</th>\n",
       "      <th>dialect</th>\n",
       "    </tr>\n",
       "  </thead>\n",
       "  <tbody>\n",
       "    <tr>\n",
       "      <th>0</th>\n",
       "      <td>@toha_Altomy @gy_yah قليلين ادب ومنافقين. لو ا...</td>\n",
       "      <td>LY</td>\n",
       "    </tr>\n",
       "    <tr>\n",
       "      <th>1</th>\n",
       "      <td>@AlmFaisal 😂😂 الليبيين متقلبين!!!\\nبس بالنسبة ...</td>\n",
       "      <td>LY</td>\n",
       "    </tr>\n",
       "    <tr>\n",
       "      <th>2</th>\n",
       "      <td>@smsm071990 @ALMOGRBE كل 20 تانيه شاب ليبي بير...</td>\n",
       "      <td>LY</td>\n",
       "    </tr>\n",
       "    <tr>\n",
       "      <th>3</th>\n",
       "      <td>@AboryPro @lyranoo85 رانيا عقليتك متخلفة. اولا...</td>\n",
       "      <td>LY</td>\n",
       "    </tr>\n",
       "    <tr>\n",
       "      <th>4</th>\n",
       "      <td>@lyranoo85 شكلك متعقدة علشان الراجل لي تحبيه ا...</td>\n",
       "      <td>LY</td>\n",
       "    </tr>\n",
       "  </tbody>\n",
       "</table>\n",
       "</div>"
      ],
      "text/plain": [
       "                                               tweet dialect\n",
       "0  @toha_Altomy @gy_yah قليلين ادب ومنافقين. لو ا...      LY\n",
       "1  @AlmFaisal 😂😂 الليبيين متقلبين!!!\\nبس بالنسبة ...      LY\n",
       "2  @smsm071990 @ALMOGRBE كل 20 تانيه شاب ليبي بير...      LY\n",
       "3  @AboryPro @lyranoo85 رانيا عقليتك متخلفة. اولا...      LY\n",
       "4  @lyranoo85 شكلك متعقدة علشان الراجل لي تحبيه ا...      LY"
      ]
     },
     "execution_count": 1,
     "metadata": {},
     "output_type": "execute_result"
    }
   ],
   "source": [
    "import sqlite3\n",
    "import pandas as pd\n",
    "\n",
    "conn = sqlite3.connect('./dialects_database.db')\n",
    "cursor = conn.cursor()\n",
    "\n",
    "cursor.execute(\"SELECT * FROM id_text\")\n",
    "text = cursor.fetchall()\n",
    "text_df = pd.DataFrame(text, columns=['id', 'tweet'])\n",
    "\n",
    "cursor.execute(\"SELECT * FROM id_dialect\")\n",
    "dialect = cursor.fetchall()\n",
    "dialect_df = pd.DataFrame(dialect, columns=['id', 'dialect'])\n",
    "\n",
    "cursor.close()\n",
    "conn.close()\n",
    "\n",
    "df = pd.merge(text_df, dialect_df, on=\"id\")\n",
    "df.drop(['id'], axis=1, inplace=True)\n",
    "df.head()"
   ]
  },
  {
   "cell_type": "code",
   "execution_count": 2,
   "id": "91e009e3",
   "metadata": {
    "id": "91e009e3",
    "outputId": "5e7d65ab-331e-4293-9535-7ebebe770aa7"
   },
   "outputs": [
    {
     "name": "stdout",
     "output_type": "stream",
     "text": [
      "Number of duplicates: 0\n"
     ]
    }
   ],
   "source": [
    "num_duplicates = df.duplicated().sum()\n",
    "print('Number of duplicates:', num_duplicates)"
   ]
  },
  {
   "cell_type": "code",
   "execution_count": 3,
   "id": "5b384448",
   "metadata": {
    "id": "5b384448",
    "outputId": "d15f8c21-b9c0-4c7b-ea83-8cc720a9fa06"
   },
   "outputs": [
    {
     "name": "stdout",
     "output_type": "stream",
     "text": [
      "Class counts:\n",
      "EG    57636\n",
      "LY    36499\n",
      "LB    27617\n",
      "SD    14434\n",
      "MA    11539\n",
      "Name: dialect, dtype: int64\n",
      "Class proportions:\n",
      "EG    0.390157\n",
      "LY    0.247074\n",
      "LB    0.186949\n",
      "SD    0.097709\n",
      "MA    0.078111\n",
      "Name: dialect, dtype: float64\n"
     ]
    }
   ],
   "source": [
    "class_counts = df['dialect'].value_counts()\n",
    "class_proportions = df['dialect'].value_counts(normalize=True)\n",
    "\n",
    "print('Class counts:')\n",
    "print(class_counts)\n",
    "\n",
    "print('Class proportions:')\n",
    "print(class_proportions)"
   ]
  },
  {
   "cell_type": "code",
   "execution_count": 6,
   "id": "2812f9ba",
   "metadata": {
    "id": "2812f9ba"
   },
   "outputs": [],
   "source": [
    "import nltk\n",
    "from nltk.tokenize import TweetTokenizer\n",
    "\n",
    "def tokenize_tweet(tweet):\n",
    "    # create a TweetTokenizer object\n",
    "    tknzr = TweetTokenizer()\n",
    "    # tokenize the tweet\n",
    "    tokens = tknzr.tokenize(tweet)\n",
    "    return tokens\n",
    "tokenized = tokenize_tweet(df['tweet'][0])"
   ]
  },
  {
   "cell_type": "code",
   "execution_count": 7,
   "id": "4d09a251",
   "metadata": {
    "id": "4d09a251"
   },
   "outputs": [],
   "source": [
    "def remove_extra_spaces(words):\n",
    "    \"\"\"Removes extra whitespaces at the beginning and at the end of each word in a list\"\"\"\n",
    "    cleaned_words = []\n",
    "    for word in words:\n",
    "        cleaned_word = ' '.join(word.split()).strip()\n",
    "        cleaned_words.append(cleaned_word)\n",
    "    return cleaned_words\n",
    "r_e_s = remove_extra_spaces(tokenized)"
   ]
  },
  {
   "cell_type": "code",
   "execution_count": 8,
   "id": "0acdac67",
   "metadata": {
    "id": "0acdac67"
   },
   "outputs": [],
   "source": [
    "import re\n",
    "\n",
    "def remove_urls(lst):\n",
    "    pattern = re.compile(r'https?://\\S+|www\\.\\S+')\n",
    "    return [re.sub(pattern, '', item).strip() for item in lst if re.sub(pattern, '', item).strip() != '']\n",
    "r_urls = remove_urls(r_e_s)"
   ]
  },
  {
   "cell_type": "code",
   "execution_count": 9,
   "id": "19e7251d",
   "metadata": {
    "id": "19e7251d"
   },
   "outputs": [],
   "source": [
    "def remove_user_mentions(words):\n",
    "    \"\"\"Removes user mentions (@user) from a list of words\"\"\"\n",
    "    cleaned_words = []\n",
    "    for word in words:\n",
    "        if not word.startswith('@'):\n",
    "            cleaned_words.append(word)\n",
    "    return cleaned_words\n",
    "r_u_m = remove_user_mentions(r_urls)"
   ]
  },
  {
   "cell_type": "code",
   "execution_count": 10,
   "id": "e3bd37cd",
   "metadata": {
    "id": "e3bd37cd"
   },
   "outputs": [],
   "source": [
    "import string\n",
    "\n",
    "def remove_punctuation(lst):\n",
    "    \"\"\"Removes punctuation from a list of strings, including single punctuation characters\"\"\"\n",
    "    translator = str.maketrans('', '', string.punctuation+'؟')\n",
    "    result = []\n",
    "    for item in lst:\n",
    "        # Remove all punctuation characters\n",
    "        item = item.translate(translator)\n",
    "        # Remove any remaining single punctuation characters\n",
    "        if item != '':\n",
    "          result.append(item)\n",
    "    return result\n",
    "r_p = remove_punctuation(r_u_m)"
   ]
  },
  {
   "cell_type": "code",
   "execution_count": 11,
   "id": "757f779c",
   "metadata": {
    "id": "757f779c"
   },
   "outputs": [],
   "source": [
    "def remove_numbers(lst):\n",
    "    \"\"\"Removes numbers from a list of strings\"\"\"\n",
    "    pattern = re.compile(r'\\d+')\n",
    "    return [re.sub(pattern, '', item) for item in lst if re.sub(pattern, '', item).strip() != '']\n",
    "r_n = remove_numbers(r_p)"
   ]
  },
  {
   "cell_type": "code",
   "execution_count": 12,
   "id": "51402811",
   "metadata": {
    "id": "51402811"
   },
   "outputs": [],
   "source": [
    "import emoji\n",
    "def remove_emojis(words):\n",
    "    \"\"\"Removes emojis from a list of words\"\"\"\n",
    "    cleaned_words = []\n",
    "    for word in words:\n",
    "        cleaned_word = ''.join(c for c in word if c not in emoji.EMOJI_DATA)\n",
    "        if cleaned_word != '':\n",
    "            cleaned_words.append(cleaned_word)\n",
    "    return cleaned_words\n",
    "r_e = remove_emojis(r_n)"
   ]
  },
  {
   "cell_type": "code",
   "execution_count": 13,
   "id": "f50d70fd",
   "metadata": {
    "id": "f50d70fd"
   },
   "outputs": [],
   "source": [
    "def remove_foreign_language(lst):\n",
    "    pattern = re.compile(r'[^\\u0600-\\u06ff]+')\n",
    "    return [re.sub(pattern, \"\", item) for item in lst if re.sub(pattern, \"\", item) != '']\n",
    "\n",
    "r_f_l = remove_foreign_language(r_e)"
   ]
  },
  {
   "cell_type": "code",
   "execution_count": 14,
   "id": "f7701792",
   "metadata": {
    "id": "f7701792"
   },
   "outputs": [],
   "source": [
    "from pyarabic.araby import strip_tashkeel\n",
    "from pyarabic.araby import normalize_ligature\n",
    "def remove_tashkeel(lst):\n",
    "    return [normalize_ligature(strip_tashkeel(word)) for word in lst]\n",
    "r_t = remove_tashkeel(r_f_l)"
   ]
  },
  {
   "cell_type": "code",
   "execution_count": 15,
   "id": "5edb36e6",
   "metadata": {
    "id": "5edb36e6"
   },
   "outputs": [],
   "source": [
    "def remove_repeated_chars(lst):\n",
    "    pattern = re.compile(r\"(\\w)\\1{2,}\")\n",
    "    return [re.sub(pattern, r\"\\1\\1\", item).strip() for item in lst if re.sub(pattern, '', item).strip() != '']\n",
    "\n",
    "r_r_c = remove_repeated_chars(r_t)"
   ]
  },
  {
   "cell_type": "code",
   "execution_count": 16,
   "id": "d897df30",
   "metadata": {
    "id": "d897df30",
    "outputId": "3d756c51-1ff6-4258-d1c3-359d76b6d837"
   },
   "outputs": [
    {
     "name": "stderr",
     "output_type": "stream",
     "text": [
      "[nltk_data] Error loading stopwords: <urlopen error [Errno 8] nodename\n",
      "[nltk_data]     nor servname provided, or not known>\n"
     ]
    },
    {
     "data": {
      "text/plain": [
       "False"
      ]
     },
     "execution_count": 16,
     "metadata": {},
     "output_type": "execute_result"
    }
   ],
   "source": [
    "nltk.download('stopwords')"
   ]
  },
  {
   "cell_type": "code",
   "execution_count": 17,
   "id": "c011ddb9",
   "metadata": {
    "id": "c011ddb9"
   },
   "outputs": [],
   "source": [
    "STOP_WORDS = set(nltk.corpus.stopwords.words(\"arabic\"))\n",
    "\n",
    "def remove_stop_words(lst):\n",
    "    result = []\n",
    "    for word in lst:\n",
    "        if word not in STOP_WORDS:\n",
    "            result.append(word)\n",
    "    return result\n",
    "r_s_w = remove_stop_words(r_r_c)"
   ]
  },
  {
   "cell_type": "code",
   "execution_count": 18,
   "id": "af48ba68",
   "metadata": {
    "id": "af48ba68"
   },
   "outputs": [],
   "source": [
    "def form_sentence(words):\n",
    "    \"\"\"Forms a sentence from a list of words\"\"\"\n",
    "    sentence = ' '.join(words)\n",
    "    return sentence\n",
    "f_s = form_sentence(r_s_w)"
   ]
  },
  {
   "cell_type": "code",
   "execution_count": 19,
   "id": "d5634c00",
   "metadata": {
    "id": "d5634c00"
   },
   "outputs": [],
   "source": [
    "def clean_tweet(tweet):\n",
    "    \"\"\"\n",
    "    A function to clean a single tweet.\n",
    "    \"\"\"\n",
    "    #tokenize tweet \n",
    "    words = tokenize_tweet(tweet)\n",
    "    #remove extra white-spaces\n",
    "    words = remove_extra_spaces(words)\n",
    "    #remove urls \n",
    "    words = remove_urls(words)\n",
    "    #remove user mentions \n",
    "    words = remove_user_mentions(words)\n",
    "    #remove punctiation\n",
    "    words = remove_punctuation(words)\n",
    "    #remove numbers\n",
    "    words = remove_numbers(words)\n",
    "    #remove emojis\n",
    "    words = remove_emojis(words)\n",
    "    #remove non-arabic charachters\n",
    "    words = remove_foreign_language(words)\n",
    "    #remove tashkeel \n",
    "    words = remove_tashkeel(words)\n",
    "    #remove repeated charachters\n",
    "    words = remove_repeated_chars(words)\n",
    "    #remove stop words \n",
    "    words = remove_stop_words(words)\n",
    "    #form a new sentence\n",
    "    sentence = form_sentence(words)\n",
    "    \n",
    "    return sentence "
   ]
  },
  {
   "cell_type": "code",
   "execution_count": 20,
   "id": "b348cb89",
   "metadata": {
    "id": "b348cb89",
    "outputId": "416601ad-7fdc-4266-866e-a6cddb674ee3"
   },
   "outputs": [
    {
     "name": "stderr",
     "output_type": "stream",
     "text": [
      "100%|██████████████████████████████| 147725/147725 [00:00<00:00, 4003719.11it/s]\n"
     ]
    },
    {
     "data": {
      "text/html": [
       "<div>\n",
       "<style scoped>\n",
       "    .dataframe tbody tr th:only-of-type {\n",
       "        vertical-align: middle;\n",
       "    }\n",
       "\n",
       "    .dataframe tbody tr th {\n",
       "        vertical-align: top;\n",
       "    }\n",
       "\n",
       "    .dataframe thead th {\n",
       "        text-align: right;\n",
       "    }\n",
       "</style>\n",
       "<table border=\"1\" class=\"dataframe\">\n",
       "  <thead>\n",
       "    <tr style=\"text-align: right;\">\n",
       "      <th></th>\n",
       "      <th>tweet</th>\n",
       "      <th>dialect</th>\n",
       "      <th>clean_tweet</th>\n",
       "    </tr>\n",
       "  </thead>\n",
       "  <tbody>\n",
       "    <tr>\n",
       "      <th>0</th>\n",
       "      <td>@toha_Altomy @gy_yah قليلين ادب ومنافقين. لو ا...</td>\n",
       "      <td>LY</td>\n",
       "      <td>قليلين ادب ومنافقين اختهم او قريبتهم تتعاكس تق...</td>\n",
       "    </tr>\n",
       "    <tr>\n",
       "      <th>1</th>\n",
       "      <td>@AlmFaisal 😂😂 الليبيين متقلبين!!!\\nبس بالنسبة ...</td>\n",
       "      <td>LY</td>\n",
       "      <td>الليبيين متقلبين بالنسبة ليا انا ميليشياوي زما...</td>\n",
       "    </tr>\n",
       "    <tr>\n",
       "      <th>2</th>\n",
       "      <td>@smsm071990 @ALMOGRBE كل 20 تانيه شاب ليبي بير...</td>\n",
       "      <td>LY</td>\n",
       "      <td>تانيه شاب ليبي بيرتاح لبنت مختلفة ويلاحظ انها ...</td>\n",
       "    </tr>\n",
       "    <tr>\n",
       "      <th>3</th>\n",
       "      <td>@AboryPro @lyranoo85 رانيا عقليتك متخلفة. اولا...</td>\n",
       "      <td>LY</td>\n",
       "      <td>رانيا عقليتك متخلفة اولا الانسان يلي يحتاج اهل...</td>\n",
       "    </tr>\n",
       "    <tr>\n",
       "      <th>4</th>\n",
       "      <td>@lyranoo85 شكلك متعقدة علشان الراجل لي تحبيه ا...</td>\n",
       "      <td>LY</td>\n",
       "      <td>شكلك متعقدة علشان الراجل تحبيه ازوج بنت يتيمة ...</td>\n",
       "    </tr>\n",
       "    <tr>\n",
       "      <th>5</th>\n",
       "      <td>@alibobkr63 او حتى من اي دين او طائفة. اسف ممك...</td>\n",
       "      <td>LY</td>\n",
       "      <td>او اي دين او طائفة اسف ممكن الغلط غلطتي مكنش قصدي</td>\n",
       "    </tr>\n",
       "    <tr>\n",
       "      <th>6</th>\n",
       "      <td>@muhamed01111 باهي نستنوه. بلكي مشغول ولا حاجة</td>\n",
       "      <td>LY</td>\n",
       "      <td>باهي نستنوه بلكي مشغول حاجة</td>\n",
       "    </tr>\n",
       "    <tr>\n",
       "      <th>7</th>\n",
       "      <td>@muhamed01111 مهما اختلفنا راه نحنا خوت. والله...</td>\n",
       "      <td>LY</td>\n",
       "      <td>اختلفنا راه نحنا خوت والله عندي انا فرحان نقدر...</td>\n",
       "    </tr>\n",
       "    <tr>\n",
       "      <th>8</th>\n",
       "      <td>@muhamed01111 بالنسبة ليا انا والله شبعت هم ون...</td>\n",
       "      <td>LY</td>\n",
       "      <td>بالنسبة ليا انا والله شبعت ونكد وقتل ودم والحق...</td>\n",
       "    </tr>\n",
       "    <tr>\n",
       "      <th>9</th>\n",
       "      <td>@Ajo32asLibya @Jed_ly مو نحنا الحياة عندنا مية...</td>\n",
       "      <td>LY</td>\n",
       "      <td>مو نحنا الحياة عندنا مية مية ومعندش شي اندكوا ...</td>\n",
       "    </tr>\n",
       "  </tbody>\n",
       "</table>\n",
       "</div>"
      ],
      "text/plain": [
       "                                               tweet dialect  \\\n",
       "0  @toha_Altomy @gy_yah قليلين ادب ومنافقين. لو ا...      LY   \n",
       "1  @AlmFaisal 😂😂 الليبيين متقلبين!!!\\nبس بالنسبة ...      LY   \n",
       "2  @smsm071990 @ALMOGRBE كل 20 تانيه شاب ليبي بير...      LY   \n",
       "3  @AboryPro @lyranoo85 رانيا عقليتك متخلفة. اولا...      LY   \n",
       "4  @lyranoo85 شكلك متعقدة علشان الراجل لي تحبيه ا...      LY   \n",
       "5  @alibobkr63 او حتى من اي دين او طائفة. اسف ممك...      LY   \n",
       "6     @muhamed01111 باهي نستنوه. بلكي مشغول ولا حاجة      LY   \n",
       "7  @muhamed01111 مهما اختلفنا راه نحنا خوت. والله...      LY   \n",
       "8  @muhamed01111 بالنسبة ليا انا والله شبعت هم ون...      LY   \n",
       "9  @Ajo32asLibya @Jed_ly مو نحنا الحياة عندنا مية...      LY   \n",
       "\n",
       "                                         clean_tweet  \n",
       "0  قليلين ادب ومنافقين اختهم او قريبتهم تتعاكس تق...  \n",
       "1  الليبيين متقلبين بالنسبة ليا انا ميليشياوي زما...  \n",
       "2  تانيه شاب ليبي بيرتاح لبنت مختلفة ويلاحظ انها ...  \n",
       "3  رانيا عقليتك متخلفة اولا الانسان يلي يحتاج اهل...  \n",
       "4  شكلك متعقدة علشان الراجل تحبيه ازوج بنت يتيمة ...  \n",
       "5  او اي دين او طائفة اسف ممكن الغلط غلطتي مكنش قصدي  \n",
       "6                        باهي نستنوه بلكي مشغول حاجة  \n",
       "7  اختلفنا راه نحنا خوت والله عندي انا فرحان نقدر...  \n",
       "8  بالنسبة ليا انا والله شبعت ونكد وقتل ودم والحق...  \n",
       "9  مو نحنا الحياة عندنا مية مية ومعندش شي اندكوا ...  "
      ]
     },
     "execution_count": 20,
     "metadata": {},
     "output_type": "execute_result"
    }
   ],
   "source": [
    "from tqdm import tqdm\n",
    "\n",
    "df['clean_tweet'] = tqdm(df['tweet'].apply(clean_tweet))\n",
    "df.head(10)"
   ]
  },
  {
   "cell_type": "code",
   "execution_count": 21,
   "id": "822195d5",
   "metadata": {},
   "outputs": [
    {
     "name": "stdout",
     "output_type": "stream",
     "text": [
      "73\n"
     ]
    }
   ],
   "source": [
    "import numpy as np \n",
    "\n",
    "df.clean_tweet = df.clean_tweet.replace('',np.NaN)\n",
    "print(df['clean_tweet'].isnull().values.sum())\n",
    "\n",
    "df.dropna(inplace=True)"
   ]
  },
  {
   "cell_type": "code",
   "execution_count": 22,
   "id": "3111ec3b",
   "metadata": {
    "id": "3111ec3b"
   },
   "outputs": [],
   "source": [
    "df = df[['clean_tweet','dialect']]\n",
    "df.to_csv(\"./clean_df.csv\",index=False)"
   ]
  },
  {
   "cell_type": "code",
   "execution_count": 23,
   "id": "j222BOT-XDOy",
   "metadata": {
    "colab": {
     "base_uri": "https://localhost:8080/"
    },
    "id": "j222BOT-XDOy",
    "outputId": "b2ea4923-f2d3-45cf-caea-0e1a4d13af2f"
   },
   "outputs": [
    {
     "data": {
      "text/plain": [
       "(147652, 2)"
      ]
     },
     "execution_count": 23,
     "metadata": {},
     "output_type": "execute_result"
    }
   ],
   "source": [
    "import pandas as pd \n",
    "df = pd.read_csv('./clean_df.csv')\n",
    "df.shape"
   ]
  },
  {
   "cell_type": "code",
   "execution_count": 24,
   "id": "9202f49a",
   "metadata": {
    "id": "9202f49a",
    "outputId": "7f69d9ed-2823-49a0-eadd-bea6cba5f7e5"
   },
   "outputs": [
    {
     "data": {
      "image/png": "[encoded data removed]",
      "text/plain": [
       "<PIL.Image.Image image mode=RGB size=400x200>"
      ]
     },
     "execution_count": 24,
     "metadata": {},
     "output_type": "execute_result"
    }
   ],
   "source": [
    "from ar_wordcloud import ArabicWordCloud\n",
    "\n",
    "text = \" \".join(i for i in df.clean_tweet)\n",
    "awc = ArabicWordCloud(background_color=\"white\")\n",
    "awc.from_text(text).to_image()"
   ]
  },
  {
   "cell_type": "code",
   "execution_count": 25,
   "id": "55389a3c",
   "metadata": {
    "id": "55389a3c"
   },
   "outputs": [],
   "source": [
    "from sklearn.model_selection import train_test_split\n",
    "\n",
    "X = df[\"clean_tweet\"].astype('U').values.tolist()\n",
    "y = df[\"dialect\"].astype('U').values.tolist()\n",
    "X_train, X_test, y_train, y_test = train_test_split(X, y, test_size=0.1, random_state=42, stratify=y)"
   ]
  },
  {
   "cell_type": "code",
   "execution_count": null,
   "id": "bc167017",
   "metadata": {
    "colab": {
     "base_uri": "https://localhost:8080/",
     "height": 75
    },
    "id": "bc167017",
    "outputId": "bbc3e818-b5d6-4335-ef70-503e98558ab6"
   },
   "outputs": [],
   "source": [
    "from sklearn.feature_extraction.text import TfidfVectorizer\n",
    "import numpy as np\n",
    "corpus = X_train\n",
    "# Initizalize the vectorizer with max nr words and ngrams (1: single words, 2: two words in a row)\n",
    "vectorizer_tfidf = TfidfVectorizer(ngram_range=(1,3))\n",
    "#corpus = vectorizer_tfidf.fit_transform(corpus.apply(lambda x: np.str_(x)))\n",
    "# Fit the vectorizer to the training data\n",
    "vectorizer_tfidf.fit(corpus)"
   ]
  },
  {
   "cell_type": "code",
   "execution_count": 114,
   "id": "F25lIw30fCW0",
   "metadata": {
    "id": "F25lIw30fCW0"
   },
   "outputs": [],
   "source": [
    "from sklearn import metrics\n",
    "from sklearn.metrics import accuracy_score\n",
    "from sklearn.metrics import f1_score\n",
    "def evaluate_model(model, X_test, y_test,model_type=None):\n",
    "  \"\"\" Evaluates a model on test data\n",
    "\n",
    "  Args:\n",
    "    model: The model to evaluate.\n",
    "    test_data: The test data.\n",
    "\n",
    "  Returns:\n",
    "    The accuracy score and f1 macro score.\n",
    "\n",
    "  \"\"\"\n",
    "  if model_type == 'DL':\n",
    "        loss, accuracy = model.evaluate(X_test,y_test)\n",
    "        probabilites = model.predict(X_test)\n",
    "        predictions = probabilites.argmax(axis=-1)\n",
    "        y_test = y_test.argmax(axis=-1)\n",
    "  else:\n",
    "      # Make predictions on the test data.\n",
    "      predictions = model.predict(X_test)\n",
    "\n",
    "      # Calculate the accuracy score.\n",
    "      accuracy = accuracy_score(y_test, predictions)\n",
    "\n",
    "  # Calculate the f1 macro score.\n",
    "  f1_macro = f1_score(y_test, predictions, average=\"macro\")\n",
    "\n",
    "  # Print the results.\n",
    "  print(\"Accuracy:\", accuracy)\n",
    "  print(\"F1 macro:\", f1_macro)\n",
    "\n",
    "  report = metrics.classification_report(y_test, predictions)\n",
    "  print(report)\n",
    "\n",
    "  return accuracy, f1_macro, report\n"
   ]
  },
  {
   "cell_type": "code",
   "execution_count": 240,
   "id": "270362be",
   "metadata": {
    "id": "270362be"
   },
   "outputs": [],
   "source": [
    "import pickle\n",
    "import keras\n",
    "def save_model(model, filename, mode=None):\n",
    "  \"\"\"Saves a model to a .pkl file.\n",
    "\n",
    "  Args:\n",
    "    model: The model to save.\n",
    "    filename: The name of the file to save the model to.\n",
    "\n",
    "  \"\"\"\n",
    "  if mode == 'DL':\n",
    "        model.save(filename)\n",
    "  else:\n",
    "      with open(filename, \"wb\") as f:\n",
    "        pickle.dump(model, f)\n",
    "\n",
    "def load_model(filename,mode=None):\n",
    "  \"\"\"Loads a model from a .pkl file.\n",
    "\n",
    "  Args:\n",
    "    filename: The name of the file to load the model from.\n",
    "\n",
    "  Returns:\n",
    "    The loaded model.\n",
    "\n",
    "  \"\"\"\n",
    "  if mode == 'DL':\n",
    "        model = keras.models.load_model(filename)\n",
    "  else:     \n",
    "      with open(filename, \"rb\") as f:\n",
    "        model = pickle.load(f)\n",
    "\n",
    "  return model\n"
   ]
  },
  {
   "cell_type": "code",
   "execution_count": null,
   "id": "e5051c9a",
   "metadata": {
    "colab": {
     "base_uri": "https://localhost:8080/",
     "height": 126
    },
    "id": "e5051c9a",
    "outputId": "72177827-d14d-49c9-9768-c4a70d47a545"
   },
   "outputs": [],
   "source": [
    "from sklearn.naive_bayes import MultinomialNB\n",
    "from sklearn.pipeline import Pipeline\n",
    "\n",
    "classifier_tfidf_NB = MultinomialNB()\n",
    "model_tfidf_NB = Pipeline([(\"vectorizer\", vectorizer_tfidf), (\"classifier\", classifier_tfidf_NB)])\n",
    "\n",
    "model_tfidf_NB.fit(X_train, y_train)"
   ]
  },
  {
   "cell_type": "code",
   "execution_count": null,
   "id": "Gh6Q7TWBfQi3",
   "metadata": {
    "colab": {
     "base_uri": "https://localhost:8080/"
    },
    "id": "Gh6Q7TWBfQi3",
    "outputId": "f1605c2c-c78b-4a5b-fc7c-c245ddd17517"
   },
   "outputs": [],
   "source": [
    "accuracy, f1_macro, report = evaluate_model(model_tfidf_NB, X_test, y_test)\n",
    "save_model(model_tfidf_NB,'NB.pkl')"
   ]
  },
  {
   "cell_type": "code",
   "execution_count": null,
   "id": "a5df70a8",
   "metadata": {
    "colab": {
     "base_uri": "https://localhost:8080/",
     "height": 126
    },
    "id": "a5df70a8",
    "outputId": "29270c83-fdf7-4698-8491-698f4b8e4075"
   },
   "outputs": [],
   "source": [
    "from sklearn.svm import LinearSVC\n",
    "from sklearn.svm import SVC\n",
    "from nltk.classify import SklearnClassifier\n",
    "\n",
    "classifier_tfidf_SVC = LinearSVC()\n",
    "#classifier_tfidf_SVC = SVC(kernel='linear',probability=True)\n",
    "#classifier_tfidf_SVC = SklearnClassifier(SVC(kernel='linear',probability=True))\n",
    "\n",
    "model_tfidf_SVC = Pipeline([(\"vectorizer\", vectorizer_tfidf), (\"classifier\", classifier_tfidf_SVC)])\n",
    "\n",
    "model_tfidf_SVC.fit(X_train, y_train)"
   ]
  },
  {
   "cell_type": "code",
   "execution_count": null,
   "id": "4k8J_DMKfx27",
   "metadata": {
    "colab": {
     "base_uri": "https://localhost:8080/"
    },
    "id": "4k8J_DMKfx27",
    "outputId": "10e6e1f4-7a3d-445d-e9c5-cfe0c549028e"
   },
   "outputs": [],
   "source": [
    "accuracy, f1_macro, report = evaluate_model(model_tfidf_SVC, X_test, y_test)\n",
    "#save_model(model_tfidf_SVC,'SVC.pkl')"
   ]
  },
  {
   "cell_type": "code",
   "execution_count": 221,
   "id": "7e3b3664",
   "metadata": {},
   "outputs": [],
   "source": [
    "one_hot_repr = to_categorical([0,1,2,3])"
   ]
  },
  {
   "cell_type": "code",
   "execution_count": 225,
   "id": "ae8367c3",
   "metadata": {},
   "outputs": [
    {
     "data": {
      "text/plain": [
       "array(['LY'], dtype='<U2')"
      ]
     },
     "execution_count": 225,
     "metadata": {},
     "output_type": "execute_result"
    }
   ],
   "source": [
    "encoder.inverse_transform([2])"
   ]
  },
  {
   "cell_type": "code",
   "execution_count": 231,
   "id": "ZmnjiEkLtbOB",
   "metadata": {
    "id": "ZmnjiEkLtbOB"
   },
   "outputs": [],
   "source": [
    "from tensorflow.keras.utils import to_categorical\n",
    "\n",
    "def classify_sentence(model, sentence, model_type=None,max_seq_length=None,encoder_type=None,encoder=None):\n",
    "  \"\"\"Classifies a sentence using a model.\n",
    "\n",
    "  Args:\n",
    "    model: The model to use for classification.\n",
    "    sentence: The sentence to classify.\n",
    "\n",
    "  Returns:\n",
    "    A tuple of the predicted label and the predicted probabilities for each class.\n",
    "\n",
    "  \"\"\"\n",
    "  if model_type == 'DL' and max_seq_length != None:\n",
    "        tokenized_tweet = tokenize_and_pad_tweet(sentence,max_seq_length)\n",
    "        probabilities_array = model.predict(tokenized_tweet)\n",
    "        predicted_probabilities = probabilities_array.tolist()[0]\n",
    "        predicted_label = probabilities_array.argmax(axis=-1)\n",
    "        one_hot_repr = (probabilities_array == probabilities_array.max(axis=1)[:,None]).astype(int)\n",
    "        if encoder_type == 'onehot':\n",
    "            predicted_dialect = encoder.inverse_transform(one_hot_repr)[0]\n",
    "            print(f\"predicted Dialect is {predicted_dialect[0]} \\n\")\n",
    "            for i in range(len(encoder.categories_[0])):\n",
    "                print(f\"predicted Dialect {encoder.categories_[0][i]} with probability {predicted_probabilities[i]*100} \\n\")\n",
    "        elif encoder_type == 'label':\n",
    "            predicted_dialect = encoder.inverse_transform([predicted_label])\n",
    "            print(f\"predicted Dialect is {predicted_dialect[0]} \\n\")         \n",
    "            for i in range(len(encoder.classes_)):\n",
    "                print(f\"predicted Dialect {encoder.classes_[i]} with probability {predicted_probabilities[i]*100} \\n\")         \n",
    "                    \n",
    "  else:\n",
    "      # Make a prediction.\n",
    "      predicted_label = model.predict([sentence])\n",
    "      print(f\"predicted Dialect is {predicted_label[0]} \\n\")\n",
    "\n",
    "      # Get the predicted probabilities for each class.\n",
    "      predicted_probabilities = None\n",
    "      try:\n",
    "        predicted_probabilities = model.predict_proba([sentence]).tolist()[0]\n",
    "        for i in range(len(model.classes_)):\n",
    "          print(f\"predicted Dialect {model.classes_[i]} with probability {predicted_probabilities[i]*100} \\n\")\n",
    "\n",
    "      except AttributeError:\n",
    "        print(\"Model doesn't support predicting probabilites\")\n",
    "\n",
    "  return predicted_label, predicted_probabilities\n"
   ]
  },
  {
   "cell_type": "code",
   "execution_count": null,
   "id": "GJXrMzTAuGd0",
   "metadata": {
    "colab": {
     "base_uri": "https://localhost:8080/"
    },
    "id": "GJXrMzTAuGd0",
    "outputId": "659649a6-41c3-438c-dbec-8cf209828f82"
   },
   "outputs": [],
   "source": [
    "predicted_label, predicted_probabilities = classify_sentence(model_tfidf_SVC,'اسمي احمد')"
   ]
  },
  {
   "cell_type": "code",
   "execution_count": 33,
   "id": "ksFsFrhoC_N2",
   "metadata": {
    "id": "ksFsFrhoC_N2"
   },
   "outputs": [],
   "source": [
    "from tensorflow.keras.preprocessing.text import Tokenizer\n",
    "from tensorflow.keras.preprocessing.sequence import pad_sequences\n",
    "import tkseem as tk\n",
    "\n",
    "\n",
    "def tokenize_and_pad_tweets(data,datatype= 'train',max_words=None,max_seq_len=None,model_path= './tokenizer_model.pkl'):\n",
    "    \"\"\"Tokenizes tweets and pads the sequences to the length of the longest sequence in the dataset.\n",
    "\n",
    "    Args:\n",
    "        df_column (pandas.Series): A DataFrame column containing tweets.\n",
    "\n",
    "    Returns:\n",
    "        tuple:\n",
    "            numpy.ndarray: An array of padded sequences.\n",
    "            int: The vocabulary size.\n",
    "            int: The maximum sequence length.\n",
    "            Tokenizer: The tokenizer object used for the tokenization.\n",
    "    \"\"\"\n",
    "    if max_words == None:\n",
    "          tokenizer = tk.WordTokenizer()\n",
    "    else:\n",
    "          tokenizer = tk.WordTokenizer(vocab_size=max_words)\n",
    "            \n",
    "    if datatype == 'train':\n",
    "        # Create tokenizer \n",
    "        path = './tokenizer.txt'\n",
    "        df = pd.DataFrame(data,columns=['tweet'])\n",
    "        df.to_csv(path, sep='\\n', header=False,index=False)\n",
    "\n",
    "        tokenizer.train(path)\n",
    "        \n",
    "        sequences = [tokenizer.encode(sentence) for sentence in data]\n",
    "        max_seq_len = max(len(seq) for seq in sequences)\n",
    "        \n",
    "        vocab_size = tokenizer.vocab_size\n",
    "        sequences = pad_sequences(sequences, maxlen=max_seq_len,value = 0, padding='post')\n",
    "         \n",
    "    \n",
    "        tokenizer.save_model('./tokenizer_model.pkl')\n",
    "    \n",
    "    elif datatype == 'test' and max_seq_len != None:\n",
    "        try:\n",
    "            tokenizer.load_model(model_path)\n",
    "            sequences = [tokenizer.encode(sentence) for sentence in data]\n",
    "            vocab_size = tokenizer.vocab_size\n",
    "            sequences = pad_sequences(sequences, maxlen=max_seq_len,value = 0, padding='post')\n",
    "            \n",
    "        except:\n",
    "            print(\"please check if tokenizer model is passed correctly!\")\n",
    "    \n",
    "    return sequences, vocab_size, max_seq_len, tokenizer"
   ]
  },
  {
   "cell_type": "code",
   "execution_count": 27,
   "id": "Y9bVXBlRIanc",
   "metadata": {
    "colab": {
     "base_uri": "https://localhost:8080/",
     "height": 371
    },
    "id": "Y9bVXBlRIanc",
    "outputId": "fa5fa0bd-2add-407e-abd9-2e1e13baa2e4"
   },
   "outputs": [
    {
     "name": "stdout",
     "output_type": "stream",
     "text": [
      "Training WordTokenizer ...\n",
      "Saving as pickle file ...\n"
     ]
    }
   ],
   "source": [
    "train_padded_sequences, vocab_size, max_seq_length, tokenizer = tokenize_and_pad_tweets(X_train,'train')"
   ]
  },
  {
   "cell_type": "code",
   "execution_count": 34,
   "id": "e20e3998",
   "metadata": {},
   "outputs": [
    {
     "name": "stdout",
     "output_type": "stream",
     "text": [
      "Loading as pickle file ...\n"
     ]
    }
   ],
   "source": [
    "test_padded_sequences, vocab_size, max_seq_length, tokenizer = tokenize_and_pad_tweets(X_test,'test',None,max_seq_length,'./tokenizer_model.pkl')"
   ]
  },
  {
   "cell_type": "code",
   "execution_count": 226,
   "id": "cadf761f",
   "metadata": {},
   "outputs": [],
   "source": [
    "from sklearn.preprocessing import OneHotEncoder,LabelEncoder\n",
    "from tensorflow.keras.utils import to_categorical\n",
    "\n",
    "#creating instance of one-hot-encoder\n",
    "#encoder = OneHotEncoder(handle_unknown='ignore')\n",
    "\n",
    "#train_labels = encoder.fit_transform(pd.DataFrame(y_train)).toarray()\n",
    "#test_labels = encoder.fit_transform(pd.DataFrame(y_test)).toarray()\n",
    "\n",
    "encoder = LabelEncoder()\n",
    "train_labels = encoder.fit_transform(y_train)\n",
    "train_labels = to_categorical(train_labels)\n",
    "test_labels = encoder.transform(y_test)\n",
    "test_labels = to_categorical(test_labels)"
   ]
  },
  {
   "cell_type": "code",
   "execution_count": 227,
   "id": "3defb59a",
   "metadata": {},
   "outputs": [],
   "source": [
    "from tensorflow.keras.models import Sequential\n",
    "from tensorflow.keras.layers import Embedding, SimpleRNN, Dense\n",
    "\n",
    "embedding_dim = 64\n",
    "rnn_units = 64\n",
    "# Define model architecture\n",
    "model = Sequential()\n",
    "model.add(Embedding(input_dim=vocab_size, output_dim=embedding_dim, input_length=max_seq_length))\n",
    "model.add(SimpleRNN(units=rnn_units))\n",
    "model.add(Dense(64, activation='relu'))\n",
    "model.add(Dense(units=5, activation='softmax'))\n",
    "\n",
    "# Compile model\n",
    "model.compile(optimizer='adam', loss='categorical_crossentropy', metrics=['accuracy'])\n"
   ]
  },
  {
   "cell_type": "code",
   "execution_count": 228,
   "id": "7ae96dbd",
   "metadata": {},
   "outputs": [
    {
     "name": "stdout",
     "output_type": "stream",
     "text": [
      "Epoch 1/10\n",
      "2077/2077 [==============================] - 28s 13ms/step - loss: 1.4558 - accuracy: 0.3902 - val_loss: 1.4530 - val_accuracy: 0.3902\n",
      "Epoch 2/10\n",
      "2077/2077 [==============================] - 27s 13ms/step - loss: 1.4558 - accuracy: 0.3902 - val_loss: 1.4497 - val_accuracy: 0.3902\n",
      "Epoch 3/10\n",
      "2077/2077 [==============================] - 29s 14ms/step - loss: 1.4210 - accuracy: 0.4005 - val_loss: 1.3863 - val_accuracy: 0.4335\n",
      "Epoch 4/10\n",
      "2077/2077 [==============================] - 28s 14ms/step - loss: 1.4121 - accuracy: 0.4193 - val_loss: 1.4249 - val_accuracy: 0.4095\n",
      "Epoch 5/10\n",
      "2077/2077 [==============================] - 29s 14ms/step - loss: 1.4142 - accuracy: 0.4206 - val_loss: 1.4272 - val_accuracy: 0.4090\n",
      "Epoch 6/10\n",
      "2077/2077 [==============================] - 28s 13ms/step - loss: 1.4141 - accuracy: 0.4207 - val_loss: 1.4248 - val_accuracy: 0.4093\n",
      "Epoch 7/10\n",
      "2077/2077 [==============================] - 27s 13ms/step - loss: 1.4043 - accuracy: 0.4231 - val_loss: 1.4013 - val_accuracy: 0.4174\n",
      "Epoch 8/10\n",
      "2077/2077 [==============================] - 27s 13ms/step - loss: 1.3801 - accuracy: 0.4336 - val_loss: 1.4003 - val_accuracy: 0.4185\n",
      "Epoch 9/10\n",
      "2077/2077 [==============================] - 28s 13ms/step - loss: 1.3797 - accuracy: 0.4361 - val_loss: 1.3988 - val_accuracy: 0.4234\n",
      "Epoch 10/10\n",
      "2077/2077 [==============================] - 27s 13ms/step - loss: 1.3799 - accuracy: 0.4371 - val_loss: 1.3991 - val_accuracy: 0.4240\n"
     ]
    }
   ],
   "source": [
    "history = model.fit(train_padded_sequences, train_labels, epochs=10, batch_size=64,\n",
    "                    validation_data=(test_padded_sequences,test_labels))"
   ]
  },
  {
   "cell_type": "code",
   "execution_count": 243,
   "id": "df933c9a",
   "metadata": {},
   "outputs": [
    {
     "name": "stdout",
     "output_type": "stream",
     "text": [
      "462/462 [==============================] - 1s 2ms/step - loss: 1.3991 - accuracy: 0.4240\n",
      "462/462 [==============================] - 1s 2ms/step\n",
      "Accuracy: 0.4240146279335022\n",
      "F1 macro: 0.23445272934943623\n",
      "              precision    recall  f1-score   support\n",
      "\n",
      "           0       0.47      0.78      0.59      5762\n",
      "           1       0.31      0.43      0.36      2762\n",
      "           2       0.43      0.15      0.22      3648\n",
      "           3       0.00      0.00      0.00      1154\n",
      "           4       0.00      0.00      0.00      1440\n",
      "\n",
      "    accuracy                           0.42     14766\n",
      "   macro avg       0.24      0.27      0.23     14766\n",
      "weighted avg       0.35      0.42      0.35     14766\n",
      "\n"
     ]
    },
    {
     "name": "stderr",
     "output_type": "stream",
     "text": [
      "/Users/amrmohamed/anaconda3/lib/python3.10/site-packages/sklearn/metrics/_classification.py:1344: UndefinedMetricWarning: Precision and F-score are ill-defined and being set to 0.0 in labels with no predicted samples. Use `zero_division` parameter to control this behavior.\n",
      "  _warn_prf(average, modifier, msg_start, len(result))\n",
      "/Users/amrmohamed/anaconda3/lib/python3.10/site-packages/sklearn/metrics/_classification.py:1344: UndefinedMetricWarning: Precision and F-score are ill-defined and being set to 0.0 in labels with no predicted samples. Use `zero_division` parameter to control this behavior.\n",
      "  _warn_prf(average, modifier, msg_start, len(result))\n",
      "/Users/amrmohamed/anaconda3/lib/python3.10/site-packages/sklearn/metrics/_classification.py:1344: UndefinedMetricWarning: Precision and F-score are ill-defined and being set to 0.0 in labels with no predicted samples. Use `zero_division` parameter to control this behavior.\n",
      "  _warn_prf(average, modifier, msg_start, len(result))\n"
     ]
    }
   ],
   "source": [
    "accuracy, f1_macro, report = evaluate_model(loaded_model, test_padded_sequences, test_labels,'DL')"
   ]
  },
  {
   "cell_type": "code",
   "execution_count": 237,
   "id": "c1fddc65",
   "metadata": {},
   "outputs": [
    {
     "name": "stdout",
     "output_type": "stream",
     "text": [
      "INFO:tensorflow:Assets written to: ./rnn/assets\n"
     ]
    },
    {
     "name": "stderr",
     "output_type": "stream",
     "text": [
      "INFO:tensorflow:Assets written to: ./rnn/assets\n"
     ]
    }
   ],
   "source": [
    "save_model(model, './rnn','DL')"
   ]
  },
  {
   "cell_type": "code",
   "execution_count": 242,
   "id": "0539e517",
   "metadata": {},
   "outputs": [],
   "source": [
    "loaded_model =load_model('./rnn','DL')"
   ]
  },
  {
   "cell_type": "code",
   "execution_count": 117,
   "id": "1e089dec",
   "metadata": {},
   "outputs": [],
   "source": [
    "from tensorflow.keras.layers import Bidirectional,LSTM\n",
    "\n",
    "embedding_dim = 64\n",
    "lstm_units = 64\n",
    "\n",
    "# Define model architecture\n",
    "model = Sequential()\n",
    "model.add(Embedding(input_dim=vocab_size, output_dim=embedding_dim, input_length=max_seq_length))\n",
    "model.add(Bidirectional(LSTM(units=lstm_units)))\n",
    "model.add(Dense(64, activation='relu'))\n",
    "model.add(Dense(units=5, activation='sigmoid'))\n",
    "\n",
    "# Compile model\n",
    "model.compile(optimizer='adam', loss='binary_crossentropy', metrics=['accuracy'])"
   ]
  },
  {
   "cell_type": "code",
   "execution_count": 118,
   "id": "51074671",
   "metadata": {},
   "outputs": [
    {
     "name": "stdout",
     "output_type": "stream",
     "text": [
      "Epoch 1/10\n",
      "2077/2077 [==============================] - 89s 42ms/step - loss: 0.2460 - accuracy: 0.7246 - val_loss: 0.1908 - val_accuracy: 0.7907\n",
      "Epoch 2/10\n",
      "2077/2077 [==============================] - 90s 43ms/step - loss: 0.1729 - accuracy: 0.8144 - val_loss: 0.1883 - val_accuracy: 0.7940\n",
      "Epoch 3/10\n",
      "2077/2077 [==============================] - 83s 40ms/step - loss: 0.1570 - accuracy: 0.8323 - val_loss: 0.1914 - val_accuracy: 0.7940\n",
      "Epoch 4/10\n",
      "2077/2077 [==============================] - 92s 44ms/step - loss: 0.1441 - accuracy: 0.8464 - val_loss: 0.2003 - val_accuracy: 0.7924\n",
      "Epoch 5/10\n",
      "2077/2077 [==============================] - 98s 47ms/step - loss: 0.1319 - accuracy: 0.8588 - val_loss: 0.2039 - val_accuracy: 0.7875\n",
      "Epoch 6/10\n",
      "2077/2077 [==============================] - 93s 45ms/step - loss: 0.1199 - accuracy: 0.8720 - val_loss: 0.2195 - val_accuracy: 0.7869\n",
      "Epoch 7/10\n",
      "2077/2077 [==============================] - 95s 46ms/step - loss: 0.1089 - accuracy: 0.8835 - val_loss: 0.2473 - val_accuracy: 0.7825\n",
      "Epoch 8/10\n",
      "2077/2077 [==============================] - 96s 46ms/step - loss: 0.0989 - accuracy: 0.8933 - val_loss: 0.2625 - val_accuracy: 0.7809\n",
      "Epoch 9/10\n",
      "2077/2077 [==============================] - 97s 47ms/step - loss: 0.0897 - accuracy: 0.9028 - val_loss: 0.2974 - val_accuracy: 0.7735\n",
      "Epoch 10/10\n",
      "2077/2077 [==============================] - 112s 54ms/step - loss: 0.0813 - accuracy: 0.9112 - val_loss: 0.3224 - val_accuracy: 0.7725\n"
     ]
    }
   ],
   "source": [
    "history = model.fit(train_padded_sequences, train_labels, epochs=10, batch_size=64,\n",
    "                    validation_data=(test_padded_sequences,test_labels))"
   ]
  },
  {
   "cell_type": "code",
   "execution_count": 116,
   "id": "b4814a09",
   "metadata": {
    "scrolled": true
   },
   "outputs": [
    {
     "name": "stdout",
     "output_type": "stream",
     "text": [
      "462/462 [==============================] - 3s 6ms/step - loss: 1.0207 - accuracy: 0.7661\n",
      "462/462 [==============================] - 3s 6ms/step\n",
      "Accuracy: 0.7660842537879944\n",
      "F1 macro: 0.7273503632163899\n",
      "              precision    recall  f1-score   support\n",
      "\n",
      "           0       0.84      0.83      0.83      5762\n",
      "           1       0.80      0.79      0.79      2762\n",
      "           2       0.72      0.75      0.74      3648\n",
      "           3       0.66      0.66      0.66      1154\n",
      "           4       0.63      0.61      0.62      1440\n",
      "\n",
      "    accuracy                           0.77     14766\n",
      "   macro avg       0.73      0.73      0.73     14766\n",
      "weighted avg       0.77      0.77      0.77     14766\n",
      "\n"
     ]
    }
   ],
   "source": [
    "accuracy, f1_macro, report = evaluate_model(model, test_padded_sequences, test_labels,'DL')"
   ]
  },
  {
   "cell_type": "code",
   "execution_count": 133,
   "id": "a2794302",
   "metadata": {},
   "outputs": [],
   "source": [
    "def tokenize_and_pad_tweet(tweet,max_seq_len=None,model_path= './tokenizer_model.pkl',max_words=None):\n",
    "\n",
    "    if max_words == None:\n",
    "          tokenizer = tk.WordTokenizer()\n",
    "    else:\n",
    "          tokenizer = tk.WordTokenizer(vocab_size=max_words)\n",
    "\n",
    "    if tweet != '' and max_seq_len != None:\n",
    "        try:\n",
    "            tokenizer.load_model(model_path)\n",
    "            sequence = tokenizer.encode(tweet)\n",
    "            vocab_size = tokenizer.vocab_size\n",
    "            sequence = pad_sequences([sequence], maxlen=max_seq_len,value = 0, padding='post')[0]\n",
    "            sequence = np.expand_dims(sequence, axis=0)\n",
    "        except:\n",
    "            print(\"please check your tweet and if tokenizer model is passed correctly!\")\n",
    "    \n",
    "    return sequence"
   ]
  },
  {
   "cell_type": "code",
   "execution_count": 134,
   "id": "89dbec68",
   "metadata": {},
   "outputs": [
    {
     "name": "stdout",
     "output_type": "stream",
     "text": [
      "Loading as pickle file ...\n"
     ]
    }
   ],
   "source": [
    "tokenized_tweet = tokenize_and_pad_tweet('انا مصري',max_seq_length)\n"
   ]
  },
  {
   "cell_type": "code",
   "execution_count": 201,
   "id": "47bfc283",
   "metadata": {},
   "outputs": [
    {
     "name": "stdout",
     "output_type": "stream",
     "text": [
      "Loading as pickle file ...\n",
      "1/1 [==============================] - 0s 14ms/step\n",
      "predicted Dialect is ['SD'] \n",
      "\n",
      "predicted Dialect EG with probability 6.365504860877991 \n",
      "\n",
      "predicted Dialect LB with probability 13.067483901977539 \n",
      "\n",
      "predicted Dialect LY with probability 2.880878560245037 \n",
      "\n",
      "predicted Dialect MA with probability 10.309519618749619 \n",
      "\n",
      "predicted Dialect SD with probability 74.17150735855103 \n",
      "\n"
     ]
    }
   ],
   "source": [
    "predicted_label, predicted_probabilities = classify_sentence(model, 'اسمي احمد','DL',max_seq_length,'onehot',encoder)"
   ]
  },
  {
   "cell_type": "code",
   "execution_count": 232,
   "id": "19f19783",
   "metadata": {},
   "outputs": [
    {
     "name": "stdout",
     "output_type": "stream",
     "text": [
      "Loading as pickle file ...\n",
      "1/1 [==============================] - 0s 12ms/step\n",
      "predicted Dialect is EG \n",
      "\n",
      "predicted Dialect EG with probability 37.27744817733765 \n",
      "\n",
      "predicted Dialect LB with probability 19.194912910461426 \n",
      "\n",
      "predicted Dialect LY with probability 25.164949893951416 \n",
      "\n",
      "predicted Dialect MA with probability 8.274728059768677 \n",
      "\n",
      "predicted Dialect SD with probability 10.087963938713074 \n",
      "\n"
     ]
    },
    {
     "name": "stderr",
     "output_type": "stream",
     "text": [
      "/Users/amrmohamed/anaconda3/lib/python3.10/site-packages/sklearn/preprocessing/_label.py:155: DataConversionWarning: A column-vector y was passed when a 1d array was expected. Please change the shape of y to (n_samples, ), for example using ravel().\n",
      "  y = column_or_1d(y, warn=True)\n"
     ]
    }
   ],
   "source": [
    "predicted_label, predicted_probabilities = classify_sentence(model, 'اسمي احمد','DL',max_seq_length,'label',encoder)"
   ]
  },
  {
   "cell_type": "code",
   "execution_count": null,
   "id": "94feda3a",
   "metadata": {},
   "outputs": [],
   "source": []
  }
 ],
 "metadata": {
  "accelerator": "GPU",
  "colab": {
   "gpuType": "T4",
   "provenance": []
  },
  "gpuClass": "standard",
  "kernelspec": {
   "display_name": "Python 3 (ipykernel)",
   "language": "python",
   "name": "python3"
  },
  "language_info": {
   "codemirror_mode": {
    "name": "ipython",
    "version": 3
   },
   "file_extension": ".py",
   "mimetype": "text/x-python",
   "name": "python",
   "nbconvert_exporter": "python",
   "pygments_lexer": "ipython3",
   "version": "3.10.9"
  }
 },
 "nbformat": 4,
 "nbformat_minor": 5
}
